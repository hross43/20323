{
 "cells": [
  {
   "cell_type": "code",
   "execution_count": 1,
   "metadata": {},
   "outputs": [],
   "source": [
    "#Imports\n",
    "import numpy as np\n",
    "from numpy import arange\n",
    "from random import random\n",
    "from pylab import (plot, xlabel, ylabel, show)"
   ]
  },
  {
   "cell_type": "code",
   "execution_count": 2,
   "metadata": {},
   "outputs": [],
   "source": [
    "#Problem 1 Function\n",
    "def deal(chosen_door, change_door = False):   \n",
    "    doors = [0, 0, 0]\n",
    "    prize_index = np.random.randint(0,3)\n",
    "    doors[prize_index] = 1\n",
    "    \n",
    "\n",
    "    for door_to_open, door in enumerate(doors):\n",
    "        if (door == 0) and (door_to_open != chosen_door):\n",
    "            revealed_door = door_to_open\n",
    "        \n",
    "    \n",
    "\n",
    "    complete_set = {0, 1, 2}\n",
    "    chosen_revealed_set = {chosen_door, revealed_door}\n",
    "    switch_list = list(complete_set - chosen_revealed_set)\n",
    "    switch_door = switch_list[0]\n",
    "\n",
    "\n",
    "    if change_door == False:\n",
    "        retval = doors[chosen_door]\n",
    "    else:\n",
    "        retval = doors[switch_door]\n",
    "\n",
    "    return(retval)\n"
   ]
  },
  {
   "cell_type": "code",
   "execution_count": 3,
   "metadata": {},
   "outputs": [
    {
     "name": "stdout",
     "output_type": "stream",
     "text": [
      "Stay win rate: 36.1%\n",
      "Change win rate: 67.2%\n"
     ]
    }
   ],
   "source": [
    "#Problem 1 Main\n",
    "i = 0\n",
    "max_iter = 1000\n",
    "\n",
    "no_change = []\n",
    "change_choice = []\n",
    "\n",
    "while i < max_iter:\n",
    "    no_change.append(deal(np.random.randint(0, 3)))\n",
    "    change_choice.append(deal(np.random.randint(0, 3), change_door= True))\n",
    "    i += 1\n",
    "\n",
    "stay_win = round(100 * (np.sum(no_change) / max_iter), 1)\n",
    "change_win = round(100 * (np.sum(change_choice) / max_iter), 1)\n",
    "\n",
    "print('Stay win rate: ' + str(stay_win) + '%')\n",
    "print('Change win rate: ' + str(change_win) + '%')"
   ]
  },
  {
   "cell_type": "code",
   "execution_count": 4,
   "metadata": {},
   "outputs": [],
   "source": [
    "#Problem 2 Function\n",
    "def ProbCalc(t, thalf):\n",
    "    temp = -(t / thalf)\n",
    "    retval = 1 - (2**temp)\n",
    "    return(retval)\n"
   ]
  },
  {
   "cell_type": "code",
   "execution_count": 5,
   "metadata": {},
   "outputs": [
    {
     "data": {
      "image/png": "[encoded data removed]",
      "text/plain": [
       "<Figure size 432x288 with 1 Axes>"
      ]
     },
     "metadata": {
      "needs_background": "light"
     },
     "output_type": "display_data"
    }
   ],
   "source": [
    "#Problem 2 Main\n",
    "N209Bi = 0\n",
    "\n",
    "NPb = 0\n",
    "Pb_half = 3.3 * 60\n",
    "\n",
    "NTl = 0\n",
    "Tl_half = 2.2 * 60\n",
    "\n",
    "NBi = 10000\n",
    "Bi_half = 46 * 60\n",
    "\n",
    "tstep = 1.0\n",
    "pPb = ProbCalc(tstep, Pb_half)\n",
    "pTl = ProbCalc(tstep, Pb_half)\n",
    "pBi = ProbCalc(tstep, Bi_half)\n",
    "\n",
    "tmax = 20000\n",
    "tpoints = arange(0.0, tmax, tstep)\n",
    "\n",
    "Bi209_points = []\n",
    "Pb_points = []\n",
    "Tl_points = []\n",
    "Bi_points = []\n",
    "\n",
    "for t in tpoints:\n",
    "    Bi209_points.append(N209Bi)\n",
    "    Pb_points.append(NPb)\n",
    "    Tl_points.append(NTl)\n",
    "    Bi_points.append(NBi)\n",
    "    \n",
    "    \n",
    "    for i in range(NBi):\n",
    "        Bi_decay = 0\n",
    "        if random() < pBi:\n",
    "            Bi_decay += 1\n",
    "        \n",
    "        temp = random()\n",
    "        if temp > 0.9791:\n",
    "            NBi -= Bi_decay\n",
    "            NTl += Bi_decay\n",
    "        else:\n",
    "            NBi -= Bi_decay\n",
    "            NPb += Bi_decay\n",
    "\n",
    "    Tl_decay = 0\n",
    "    for i in range(NTl):\n",
    "        if random() < pTl:\n",
    "            Tl_decay +=1\n",
    "    NTl -= Tl_decay\n",
    "    NPb += Tl_decay\n",
    "\n",
    "    Pb_decay = 0\n",
    "    for i in range(NPb):\n",
    "        if random() < pPb:\n",
    "            Pb_decay += 1\n",
    "\n",
    "    NPb -= Pb_decay\n",
    "    N209Bi += Pb_decay\n",
    "\n",
    "\n",
    "    \n",
    "# Make the graph\n",
    "plot(tpoints, Bi209_points, c='m')\n",
    "plot(tpoints, Pb_points, c='b')\n",
    "plot(tpoints, Tl_points, c='r')\n",
    "plot(tpoints, Bi_points, c='g')\n",
    "xlabel(\"Time\")\n",
    "ylabel(\"Number of atoms (seconds)\")\n",
    "show()"
   ]
  }
 ],
 "metadata": {
  "kernelspec": {
   "display_name": "Python 3",
   "language": "python",
   "name": "python3"
  },
  "language_info": {
   "codemirror_mode": {
    "name": "ipython",
    "version": 3
   },
   "file_extension": ".py",
   "mimetype": "text/x-python",
   "name": "python",
   "nbconvert_exporter": "python",
   "pygments_lexer": "ipython3",
   "version": "3.7.4"
  }
 },
 "nbformat": 4,
 "nbformat_minor": 2
}
